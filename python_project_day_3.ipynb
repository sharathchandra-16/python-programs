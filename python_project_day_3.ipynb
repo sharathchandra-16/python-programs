{
  "cells": [
    {
      "cell_type": "code",
      "execution_count": null,
      "metadata": {
        "colab": {
          "base_uri": "https://localhost:8080/"
        },
        "id": "i0n7n1Y9ihsG",
        "outputId": "f49d7d61-35f9-40f9-97f0-9c64aa7e8284"
      },
      "outputs": [
        {
          "name": "stdout",
          "output_type": "stream",
          "text": [
            "1\n",
            "2\n",
            "3\n",
            "4\n",
            "5\n",
            "6\n",
            "7\n"
          ]
        }
      ],
      "source": []
    },
    {
      "cell_type": "code",
      "execution_count": null,
      "metadata": {
        "colab": {
          "background_save": true
        },
        "id": "w6zH_RQQit98"
      },
      "outputs": [],
      "source": [
        "\n",
        "\n",
        ""
      ]
    },
    {
      "cell_type": "code",
      "execution_count": null,
      "metadata": {
        "id": "CgKBhtfrescp"
      },
      "outputs": [],
      "source": [
        "\n"
      ]
    },
    {
      "cell_type": "code",
      "execution_count": 1,
      "metadata": {
        "id": "a6QzwtxZpvPj",
        "colab": {
          "base_uri": "https://localhost:8080/"
        },
        "outputId": "a367d7be-083d-4b22-928b-f1a77c73c08f"
      },
      "outputs": [
        {
          "output_type": "stream",
          "name": "stdout",
          "text": [
            "10\n"
          ]
        }
      ],
      "source": []
    },
    {
      "cell_type": "markdown",
      "source": [
        "# simple calculator\n"
      ],
      "metadata": {
        "id": "w7PrHZthLota"
      }
    },
    {
      "cell_type": "code",
      "source": [
        "def add(x,y):\n",
        "  return x + y\n",
        "\n",
        "def subtract(x,y):\n",
        "  return x - y\n",
        "\n",
        "def multiply(x,y):\n",
        "  return x * y\n",
        "\n",
        "def divide(x,y):\n",
        "  if y !=0:\n",
        "    return x / y\n",
        "  else:\n",
        "       return \"error! division by zero.\"\n",
        "\n",
        "def calculator():\n",
        "    print(\"simple calculator:\")\n",
        "    print(\"choose operation:\")\n",
        "    print(\"1.add\")\n",
        "    print(\"2.subtract\")\n",
        "    print(\"3.multiply\")\n",
        "    print(\"4.divide\")\n",
        "\n",
        "    while True:\n",
        "        choice=input(\"enter choice(1/2/3/4):\")\n",
        "\n",
        "        if choice in ['1','2','3','4']:\n",
        "          num1 =float(input(\"enter first number:\"))\n",
        "          num2 =float(input(\"enter second number:\"))\n",
        "\n",
        "        if choice == '1':\n",
        "          print(f\"the result is:{add(num1,num2)}\")\n",
        "        elif choice == '2':\n",
        "          print(f\"the result is:{subtract(num1,num2)}\")\n",
        "        elif choice == '3':\n",
        "          print(f\"the result is:{multiply(num1,num2)}\")\n",
        "        elif choice == '4':\n",
        "          print(f\"the result is:{divide(num1,num2)}\")\n",
        "\n",
        "        next_calculation = input(\"do you want to perform another calculation?(yes/no) \")\n",
        "        if next_calculation.lower() !='yes':\n",
        "            break\n",
        "    else:\n",
        "            print(\"invalid input\")\n",
        "            #run  the calculator\n",
        "calculator()\n",
        "\n",
        "\n",
        "\n",
        "\n"
      ],
      "metadata": {
        "colab": {
          "base_uri": "https://localhost:8080/"
        },
        "id": "4IUI9ibMLrbt",
        "outputId": "81a47073-39f8-456e-d56d-39f46976d31c"
      },
      "execution_count": null,
      "outputs": [
        {
          "output_type": "stream",
          "name": "stdout",
          "text": [
            "simple calculator:\n",
            "choose operation:\n",
            "1.add\n",
            "2.subtract\n",
            "3.multiply\n",
            "4.divide\n"
          ]
        }
      ]
    },
    {
      "cell_type": "markdown",
      "source": [],
      "metadata": {
        "id": "e3GkIe_vMZup"
      }
    }
  ],
  "metadata": {
    "colab": {
      "provenance": []
    },
    "kernelspec": {
      "display_name": "Python 3",
      "name": "python3"
    },
    "language_info": {
      "name": "python"
    }
  },
  "nbformat": 4,
  "nbformat_minor": 0
}